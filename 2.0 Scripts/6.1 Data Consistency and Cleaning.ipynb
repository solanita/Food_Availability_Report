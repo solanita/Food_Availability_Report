{
 "cells": [
  {
   "cell_type": "markdown",
   "id": "7757f2da",
   "metadata": {},
   "source": [
    "# Table of Contents\n",
    "\n",
    "## 1.0 Setup\n",
    "## 2.0 Data Cleaning\n",
    "## 3.0 Exporting Data"
   ]
  },
  {
   "cell_type": "markdown",
   "id": "536f9479",
   "metadata": {},
   "source": [
    "## 1.0 Setup"
   ]
  },
  {
   "cell_type": "code",
   "execution_count": 1,
   "id": "6968b4da",
   "metadata": {},
   "outputs": [],
   "source": [
    "# Importing libraries\n",
    "\n",
    "import pandas as pd\n",
    "import numpy as np\n",
    "import os"
   ]
  },
  {
   "cell_type": "code",
   "execution_count": 2,
   "id": "ea091149",
   "metadata": {},
   "outputs": [],
   "source": [
    "# Defining the path\n",
    "\n",
    "path = (r'E:\\OneDrive\\ANITA\\DATA ANALYST\\IMMERSION\\Achievement 6\\11-22 Food Balance Sheet Analysis\\2.0 Data')"
   ]
  },
  {
   "cell_type": "code",
   "execution_count": 3,
   "id": "fc969a17",
   "metadata": {},
   "outputs": [],
   "source": [
    "# Importing fbs_start.pkl as fbs\n",
    "\n",
    "fbs = pd.read_pickle(os.path.join(path, '2.1 Original data', 'fbs_start.pkl'))"
   ]
  },
  {
   "cell_type": "markdown",
   "id": "044f3436",
   "metadata": {},
   "source": [
    "## 2.0 Data Cleaning"
   ]
  },
  {
   "cell_type": "code",
   "execution_count": 4,
   "id": "5cdaa4be",
   "metadata": {},
   "outputs": [
    {
     "data": {
      "text/html": [
       "<div>\n",
       "<style scoped>\n",
       "    .dataframe tbody tr th:only-of-type {\n",
       "        vertical-align: middle;\n",
       "    }\n",
       "\n",
       "    .dataframe tbody tr th {\n",
       "        vertical-align: top;\n",
       "    }\n",
       "\n",
       "    .dataframe thead th {\n",
       "        text-align: right;\n",
       "    }\n",
       "</style>\n",
       "<table border=\"1\" class=\"dataframe\">\n",
       "  <thead>\n",
       "    <tr style=\"text-align: right;\">\n",
       "      <th></th>\n",
       "      <th>Domain Code</th>\n",
       "      <th>Domain</th>\n",
       "      <th>Area Code (M49)</th>\n",
       "      <th>Area</th>\n",
       "      <th>Element Code</th>\n",
       "      <th>Element</th>\n",
       "      <th>Item Code (CPC)</th>\n",
       "      <th>Item</th>\n",
       "      <th>Year Code</th>\n",
       "      <th>Year</th>\n",
       "      <th>Unit</th>\n",
       "      <th>Value</th>\n",
       "      <th>Flag</th>\n",
       "      <th>Flag Description</th>\n",
       "    </tr>\n",
       "  </thead>\n",
       "  <tbody>\n",
       "    <tr>\n",
       "      <th>0</th>\n",
       "      <td>FBS</td>\n",
       "      <td>Food Balances (2010-)</td>\n",
       "      <td>4</td>\n",
       "      <td>Afghanistan</td>\n",
       "      <td>511</td>\n",
       "      <td>Total Population - Both sexes</td>\n",
       "      <td>S2501</td>\n",
       "      <td>Population</td>\n",
       "      <td>2010</td>\n",
       "      <td>2010</td>\n",
       "      <td>1000 persons</td>\n",
       "      <td>29186.0</td>\n",
       "      <td>X</td>\n",
       "      <td>Figure from international organizations</td>\n",
       "    </tr>\n",
       "    <tr>\n",
       "      <th>1</th>\n",
       "      <td>FBS</td>\n",
       "      <td>Food Balances (2010-)</td>\n",
       "      <td>4</td>\n",
       "      <td>Afghanistan</td>\n",
       "      <td>511</td>\n",
       "      <td>Total Population - Both sexes</td>\n",
       "      <td>S2501</td>\n",
       "      <td>Population</td>\n",
       "      <td>2011</td>\n",
       "      <td>2011</td>\n",
       "      <td>1000 persons</td>\n",
       "      <td>30117.0</td>\n",
       "      <td>X</td>\n",
       "      <td>Figure from international organizations</td>\n",
       "    </tr>\n",
       "    <tr>\n",
       "      <th>2</th>\n",
       "      <td>FBS</td>\n",
       "      <td>Food Balances (2010-)</td>\n",
       "      <td>4</td>\n",
       "      <td>Afghanistan</td>\n",
       "      <td>511</td>\n",
       "      <td>Total Population - Both sexes</td>\n",
       "      <td>S2501</td>\n",
       "      <td>Population</td>\n",
       "      <td>2012</td>\n",
       "      <td>2012</td>\n",
       "      <td>1000 persons</td>\n",
       "      <td>31161.0</td>\n",
       "      <td>X</td>\n",
       "      <td>Figure from international organizations</td>\n",
       "    </tr>\n",
       "    <tr>\n",
       "      <th>3</th>\n",
       "      <td>FBS</td>\n",
       "      <td>Food Balances (2010-)</td>\n",
       "      <td>4</td>\n",
       "      <td>Afghanistan</td>\n",
       "      <td>511</td>\n",
       "      <td>Total Population - Both sexes</td>\n",
       "      <td>S2501</td>\n",
       "      <td>Population</td>\n",
       "      <td>2013</td>\n",
       "      <td>2013</td>\n",
       "      <td>1000 persons</td>\n",
       "      <td>32270.0</td>\n",
       "      <td>X</td>\n",
       "      <td>Figure from international organizations</td>\n",
       "    </tr>\n",
       "    <tr>\n",
       "      <th>4</th>\n",
       "      <td>FBS</td>\n",
       "      <td>Food Balances (2010-)</td>\n",
       "      <td>4</td>\n",
       "      <td>Afghanistan</td>\n",
       "      <td>511</td>\n",
       "      <td>Total Population - Both sexes</td>\n",
       "      <td>S2501</td>\n",
       "      <td>Population</td>\n",
       "      <td>2014</td>\n",
       "      <td>2014</td>\n",
       "      <td>1000 persons</td>\n",
       "      <td>33371.0</td>\n",
       "      <td>X</td>\n",
       "      <td>Figure from international organizations</td>\n",
       "    </tr>\n",
       "  </tbody>\n",
       "</table>\n",
       "</div>"
      ],
      "text/plain": [
       "  Domain Code                 Domain  Area Code (M49)         Area  \\\n",
       "0         FBS  Food Balances (2010-)                4  Afghanistan   \n",
       "1         FBS  Food Balances (2010-)                4  Afghanistan   \n",
       "2         FBS  Food Balances (2010-)                4  Afghanistan   \n",
       "3         FBS  Food Balances (2010-)                4  Afghanistan   \n",
       "4         FBS  Food Balances (2010-)                4  Afghanistan   \n",
       "\n",
       "   Element Code                        Element Item Code (CPC)        Item  \\\n",
       "0           511  Total Population - Both sexes           S2501  Population   \n",
       "1           511  Total Population - Both sexes           S2501  Population   \n",
       "2           511  Total Population - Both sexes           S2501  Population   \n",
       "3           511  Total Population - Both sexes           S2501  Population   \n",
       "4           511  Total Population - Both sexes           S2501  Population   \n",
       "\n",
       "   Year Code  Year          Unit    Value Flag  \\\n",
       "0       2010  2010  1000 persons  29186.0    X   \n",
       "1       2011  2011  1000 persons  30117.0    X   \n",
       "2       2012  2012  1000 persons  31161.0    X   \n",
       "3       2013  2013  1000 persons  32270.0    X   \n",
       "4       2014  2014  1000 persons  33371.0    X   \n",
       "\n",
       "                          Flag Description  \n",
       "0  Figure from international organizations  \n",
       "1  Figure from international organizations  \n",
       "2  Figure from international organizations  \n",
       "3  Figure from international organizations  \n",
       "4  Figure from international organizations  "
      ]
     },
     "execution_count": 4,
     "metadata": {},
     "output_type": "execute_result"
    }
   ],
   "source": [
    "fbs.head()"
   ]
  },
  {
   "cell_type": "code",
   "execution_count": 5,
   "id": "376fc8a6",
   "metadata": {},
   "outputs": [
    {
     "data": {
      "text/plain": [
       "(3000600, 14)"
      ]
     },
     "execution_count": 5,
     "metadata": {},
     "output_type": "execute_result"
    }
   ],
   "source": [
    "fbs.shape"
   ]
  },
  {
   "cell_type": "code",
   "execution_count": 6,
   "id": "e3145e94",
   "metadata": {},
   "outputs": [
    {
     "data": {
      "text/plain": [
       "Domain Code             1\n",
       "Domain                  1\n",
       "Area Code (M49)       180\n",
       "Area                  180\n",
       "Element Code           18\n",
       "Element                18\n",
       "Item Code (CPC)        99\n",
       "Item                   99\n",
       "Year Code              10\n",
       "Year                   10\n",
       "Unit                    5\n",
       "Value               29242\n",
       "Flag                    3\n",
       "Flag Description        3\n",
       "dtype: int64"
      ]
     },
     "execution_count": 6,
     "metadata": {},
     "output_type": "execute_result"
    }
   ],
   "source": [
    "fbs.nunique()"
   ]
  },
  {
   "cell_type": "code",
   "execution_count": 7,
   "id": "0bf39396",
   "metadata": {},
   "outputs": [
    {
     "name": "stdout",
     "output_type": "stream",
     "text": [
      "Unit\n",
      "Flag\n",
      "Flag Description\n"
     ]
    }
   ],
   "source": [
    "# Checking for mixed types\n",
    "\n",
    "for col in fbs.columns.tolist():\n",
    "    weird = (fbs[[col]].applymap(type) != fbs[[col]].iloc[0].apply(type)).any(axis = 1)\n",
    "    if len (fbs[weird]) > 0:\n",
    "        print (col)\n"
   ]
  },
  {
   "cell_type": "code",
   "execution_count": 8,
   "id": "e570807a",
   "metadata": {},
   "outputs": [
    {
     "data": {
      "text/plain": [
       "Domain Code               0\n",
       "Domain                    0\n",
       "Area Code (M49)           0\n",
       "Area                      0\n",
       "Element Code              0\n",
       "Element                   0\n",
       "Item Code (CPC)           0\n",
       "Item                      0\n",
       "Year Code                 0\n",
       "Year                      0\n",
       "Unit                1184345\n",
       "Value               1186000\n",
       "Flag                1184345\n",
       "Flag Description    1184345\n",
       "dtype: int64"
      ]
     },
     "execution_count": 8,
     "metadata": {},
     "output_type": "execute_result"
    }
   ],
   "source": [
    "# Finding missing values in the fbs\n",
    "\n",
    "fbs.isnull().sum()"
   ]
  },
  {
   "cell_type": "code",
   "execution_count": 9,
   "id": "273b998d",
   "metadata": {},
   "outputs": [],
   "source": [
    "# Extracting the subset with the missing values from fbs\n",
    "\n",
    "fbs_nan = fbs[fbs['Value'].isnull() == True]"
   ]
  },
  {
   "cell_type": "code",
   "execution_count": 10,
   "id": "ea070052",
   "metadata": {},
   "outputs": [
    {
     "data": {
      "text/html": [
       "<div>\n",
       "<style scoped>\n",
       "    .dataframe tbody tr th:only-of-type {\n",
       "        vertical-align: middle;\n",
       "    }\n",
       "\n",
       "    .dataframe tbody tr th {\n",
       "        vertical-align: top;\n",
       "    }\n",
       "\n",
       "    .dataframe thead th {\n",
       "        text-align: right;\n",
       "    }\n",
       "</style>\n",
       "<table border=\"1\" class=\"dataframe\">\n",
       "  <thead>\n",
       "    <tr style=\"text-align: right;\">\n",
       "      <th></th>\n",
       "      <th>Domain Code</th>\n",
       "      <th>Domain</th>\n",
       "      <th>Area Code (M49)</th>\n",
       "      <th>Area</th>\n",
       "      <th>Element Code</th>\n",
       "      <th>Element</th>\n",
       "      <th>Item Code (CPC)</th>\n",
       "      <th>Item</th>\n",
       "      <th>Year Code</th>\n",
       "      <th>Year</th>\n",
       "      <th>Unit</th>\n",
       "      <th>Value</th>\n",
       "      <th>Flag</th>\n",
       "      <th>Flag Description</th>\n",
       "    </tr>\n",
       "  </thead>\n",
       "  <tbody>\n",
       "    <tr>\n",
       "      <th>40</th>\n",
       "      <td>FBS</td>\n",
       "      <td>Food Balances (2010-)</td>\n",
       "      <td>4</td>\n",
       "      <td>Afghanistan</td>\n",
       "      <td>5911</td>\n",
       "      <td>Export Quantity</td>\n",
       "      <td>S2511</td>\n",
       "      <td>Wheat and products</td>\n",
       "      <td>2010</td>\n",
       "      <td>2010</td>\n",
       "      <td>NaN</td>\n",
       "      <td>NaN</td>\n",
       "      <td>NaN</td>\n",
       "      <td>NaN</td>\n",
       "    </tr>\n",
       "    <tr>\n",
       "      <th>41</th>\n",
       "      <td>FBS</td>\n",
       "      <td>Food Balances (2010-)</td>\n",
       "      <td>4</td>\n",
       "      <td>Afghanistan</td>\n",
       "      <td>5911</td>\n",
       "      <td>Export Quantity</td>\n",
       "      <td>S2511</td>\n",
       "      <td>Wheat and products</td>\n",
       "      <td>2011</td>\n",
       "      <td>2011</td>\n",
       "      <td>NaN</td>\n",
       "      <td>NaN</td>\n",
       "      <td>NaN</td>\n",
       "      <td>NaN</td>\n",
       "    </tr>\n",
       "    <tr>\n",
       "      <th>42</th>\n",
       "      <td>FBS</td>\n",
       "      <td>Food Balances (2010-)</td>\n",
       "      <td>4</td>\n",
       "      <td>Afghanistan</td>\n",
       "      <td>5911</td>\n",
       "      <td>Export Quantity</td>\n",
       "      <td>S2511</td>\n",
       "      <td>Wheat and products</td>\n",
       "      <td>2012</td>\n",
       "      <td>2012</td>\n",
       "      <td>NaN</td>\n",
       "      <td>NaN</td>\n",
       "      <td>NaN</td>\n",
       "      <td>NaN</td>\n",
       "    </tr>\n",
       "    <tr>\n",
       "      <th>43</th>\n",
       "      <td>FBS</td>\n",
       "      <td>Food Balances (2010-)</td>\n",
       "      <td>4</td>\n",
       "      <td>Afghanistan</td>\n",
       "      <td>5911</td>\n",
       "      <td>Export Quantity</td>\n",
       "      <td>S2511</td>\n",
       "      <td>Wheat and products</td>\n",
       "      <td>2013</td>\n",
       "      <td>2013</td>\n",
       "      <td>NaN</td>\n",
       "      <td>NaN</td>\n",
       "      <td>NaN</td>\n",
       "      <td>NaN</td>\n",
       "    </tr>\n",
       "    <tr>\n",
       "      <th>94</th>\n",
       "      <td>FBS</td>\n",
       "      <td>Food Balances (2010-)</td>\n",
       "      <td>4</td>\n",
       "      <td>Afghanistan</td>\n",
       "      <td>5131</td>\n",
       "      <td>Processing</td>\n",
       "      <td>S2511</td>\n",
       "      <td>Wheat and products</td>\n",
       "      <td>2014</td>\n",
       "      <td>2014</td>\n",
       "      <td>NaN</td>\n",
       "      <td>NaN</td>\n",
       "      <td>NaN</td>\n",
       "      <td>NaN</td>\n",
       "    </tr>\n",
       "    <tr>\n",
       "      <th>...</th>\n",
       "      <td>...</td>\n",
       "      <td>...</td>\n",
       "      <td>...</td>\n",
       "      <td>...</td>\n",
       "      <td>...</td>\n",
       "      <td>...</td>\n",
       "      <td>...</td>\n",
       "      <td>...</td>\n",
       "      <td>...</td>\n",
       "      <td>...</td>\n",
       "      <td>...</td>\n",
       "      <td>...</td>\n",
       "      <td>...</td>\n",
       "      <td>...</td>\n",
       "    </tr>\n",
       "    <tr>\n",
       "      <th>199975</th>\n",
       "      <td>FBS</td>\n",
       "      <td>Food Balances (2010-)</td>\n",
       "      <td>716</td>\n",
       "      <td>Zimbabwe</td>\n",
       "      <td>5171</td>\n",
       "      <td>Tourist consumption</td>\n",
       "      <td>S2899</td>\n",
       "      <td>Miscellaneous</td>\n",
       "      <td>2015</td>\n",
       "      <td>2015</td>\n",
       "      <td>NaN</td>\n",
       "      <td>NaN</td>\n",
       "      <td>NaN</td>\n",
       "      <td>NaN</td>\n",
       "    </tr>\n",
       "    <tr>\n",
       "      <th>199976</th>\n",
       "      <td>FBS</td>\n",
       "      <td>Food Balances (2010-)</td>\n",
       "      <td>716</td>\n",
       "      <td>Zimbabwe</td>\n",
       "      <td>5171</td>\n",
       "      <td>Tourist consumption</td>\n",
       "      <td>S2899</td>\n",
       "      <td>Miscellaneous</td>\n",
       "      <td>2016</td>\n",
       "      <td>2016</td>\n",
       "      <td>NaN</td>\n",
       "      <td>NaN</td>\n",
       "      <td>NaN</td>\n",
       "      <td>NaN</td>\n",
       "    </tr>\n",
       "    <tr>\n",
       "      <th>199977</th>\n",
       "      <td>FBS</td>\n",
       "      <td>Food Balances (2010-)</td>\n",
       "      <td>716</td>\n",
       "      <td>Zimbabwe</td>\n",
       "      <td>5171</td>\n",
       "      <td>Tourist consumption</td>\n",
       "      <td>S2899</td>\n",
       "      <td>Miscellaneous</td>\n",
       "      <td>2017</td>\n",
       "      <td>2017</td>\n",
       "      <td>NaN</td>\n",
       "      <td>NaN</td>\n",
       "      <td>NaN</td>\n",
       "      <td>NaN</td>\n",
       "    </tr>\n",
       "    <tr>\n",
       "      <th>199978</th>\n",
       "      <td>FBS</td>\n",
       "      <td>Food Balances (2010-)</td>\n",
       "      <td>716</td>\n",
       "      <td>Zimbabwe</td>\n",
       "      <td>5171</td>\n",
       "      <td>Tourist consumption</td>\n",
       "      <td>S2899</td>\n",
       "      <td>Miscellaneous</td>\n",
       "      <td>2018</td>\n",
       "      <td>2018</td>\n",
       "      <td>NaN</td>\n",
       "      <td>NaN</td>\n",
       "      <td>NaN</td>\n",
       "      <td>NaN</td>\n",
       "    </tr>\n",
       "    <tr>\n",
       "      <th>199979</th>\n",
       "      <td>FBS</td>\n",
       "      <td>Food Balances (2010-)</td>\n",
       "      <td>716</td>\n",
       "      <td>Zimbabwe</td>\n",
       "      <td>5171</td>\n",
       "      <td>Tourist consumption</td>\n",
       "      <td>S2899</td>\n",
       "      <td>Miscellaneous</td>\n",
       "      <td>2019</td>\n",
       "      <td>2019</td>\n",
       "      <td>NaN</td>\n",
       "      <td>NaN</td>\n",
       "      <td>NaN</td>\n",
       "      <td>NaN</td>\n",
       "    </tr>\n",
       "  </tbody>\n",
       "</table>\n",
       "<p>1186000 rows × 14 columns</p>\n",
       "</div>"
      ],
      "text/plain": [
       "       Domain Code                 Domain  Area Code (M49)         Area  \\\n",
       "40             FBS  Food Balances (2010-)                4  Afghanistan   \n",
       "41             FBS  Food Balances (2010-)                4  Afghanistan   \n",
       "42             FBS  Food Balances (2010-)                4  Afghanistan   \n",
       "43             FBS  Food Balances (2010-)                4  Afghanistan   \n",
       "94             FBS  Food Balances (2010-)                4  Afghanistan   \n",
       "...            ...                    ...              ...          ...   \n",
       "199975         FBS  Food Balances (2010-)              716     Zimbabwe   \n",
       "199976         FBS  Food Balances (2010-)              716     Zimbabwe   \n",
       "199977         FBS  Food Balances (2010-)              716     Zimbabwe   \n",
       "199978         FBS  Food Balances (2010-)              716     Zimbabwe   \n",
       "199979         FBS  Food Balances (2010-)              716     Zimbabwe   \n",
       "\n",
       "        Element Code              Element Item Code (CPC)                Item  \\\n",
       "40              5911      Export Quantity           S2511  Wheat and products   \n",
       "41              5911      Export Quantity           S2511  Wheat and products   \n",
       "42              5911      Export Quantity           S2511  Wheat and products   \n",
       "43              5911      Export Quantity           S2511  Wheat and products   \n",
       "94              5131           Processing           S2511  Wheat and products   \n",
       "...              ...                  ...             ...                 ...   \n",
       "199975          5171  Tourist consumption           S2899       Miscellaneous   \n",
       "199976          5171  Tourist consumption           S2899       Miscellaneous   \n",
       "199977          5171  Tourist consumption           S2899       Miscellaneous   \n",
       "199978          5171  Tourist consumption           S2899       Miscellaneous   \n",
       "199979          5171  Tourist consumption           S2899       Miscellaneous   \n",
       "\n",
       "        Year Code  Year Unit  Value Flag Flag Description  \n",
       "40           2010  2010  NaN    NaN  NaN              NaN  \n",
       "41           2011  2011  NaN    NaN  NaN              NaN  \n",
       "42           2012  2012  NaN    NaN  NaN              NaN  \n",
       "43           2013  2013  NaN    NaN  NaN              NaN  \n",
       "94           2014  2014  NaN    NaN  NaN              NaN  \n",
       "...           ...   ...  ...    ...  ...              ...  \n",
       "199975       2015  2015  NaN    NaN  NaN              NaN  \n",
       "199976       2016  2016  NaN    NaN  NaN              NaN  \n",
       "199977       2017  2017  NaN    NaN  NaN              NaN  \n",
       "199978       2018  2018  NaN    NaN  NaN              NaN  \n",
       "199979       2019  2019  NaN    NaN  NaN              NaN  \n",
       "\n",
       "[1186000 rows x 14 columns]"
      ]
     },
     "execution_count": 10,
     "metadata": {},
     "output_type": "execute_result"
    }
   ],
   "source": [
    "fbs_nan\n",
    "\n",
    "# Missing values were left as is"
   ]
  },
  {
   "cell_type": "code",
   "execution_count": 11,
   "id": "a853c420",
   "metadata": {},
   "outputs": [],
   "source": [
    "# Creating a subset with the duplicated values from the fbs\n",
    "\n",
    "fbs_duplicates = fbs[fbs.duplicated()]"
   ]
  },
  {
   "cell_type": "code",
   "execution_count": 12,
   "id": "a15f43ed",
   "metadata": {},
   "outputs": [
    {
     "data": {
      "text/html": [
       "<div>\n",
       "<style scoped>\n",
       "    .dataframe tbody tr th:only-of-type {\n",
       "        vertical-align: middle;\n",
       "    }\n",
       "\n",
       "    .dataframe tbody tr th {\n",
       "        vertical-align: top;\n",
       "    }\n",
       "\n",
       "    .dataframe thead th {\n",
       "        text-align: right;\n",
       "    }\n",
       "</style>\n",
       "<table border=\"1\" class=\"dataframe\">\n",
       "  <thead>\n",
       "    <tr style=\"text-align: right;\">\n",
       "      <th></th>\n",
       "      <th>Domain Code</th>\n",
       "      <th>Domain</th>\n",
       "      <th>Area Code (M49)</th>\n",
       "      <th>Area</th>\n",
       "      <th>Element Code</th>\n",
       "      <th>Element</th>\n",
       "      <th>Item Code (CPC)</th>\n",
       "      <th>Item</th>\n",
       "      <th>Year Code</th>\n",
       "      <th>Year</th>\n",
       "      <th>Unit</th>\n",
       "      <th>Value</th>\n",
       "      <th>Flag</th>\n",
       "      <th>Flag Description</th>\n",
       "    </tr>\n",
       "  </thead>\n",
       "  <tbody>\n",
       "  </tbody>\n",
       "</table>\n",
       "</div>"
      ],
      "text/plain": [
       "Empty DataFrame\n",
       "Columns: [Domain Code, Domain, Area Code (M49), Area, Element Code, Element, Item Code (CPC), Item, Year Code, Year, Unit, Value, Flag, Flag Description]\n",
       "Index: []"
      ]
     },
     "execution_count": 12,
     "metadata": {},
     "output_type": "execute_result"
    }
   ],
   "source": [
    "fbs_duplicates\n",
    "\n",
    "# No duplicates were found"
   ]
  },
  {
   "cell_type": "code",
   "execution_count": 13,
   "id": "2108dd2b",
   "metadata": {},
   "outputs": [
    {
     "data": {
      "text/plain": [
       "Domain Code          object\n",
       "Domain               object\n",
       "Area Code (M49)       int64\n",
       "Area                 object\n",
       "Element Code          int64\n",
       "Element              object\n",
       "Item Code (CPC)      object\n",
       "Item                 object\n",
       "Year Code             int64\n",
       "Year                  int64\n",
       "Unit                 object\n",
       "Value               float64\n",
       "Flag                 object\n",
       "Flag Description     object\n",
       "dtype: object"
      ]
     },
     "execution_count": 13,
     "metadata": {},
     "output_type": "execute_result"
    }
   ],
   "source": [
    "fbs.dtypes"
   ]
  },
  {
   "cell_type": "code",
   "execution_count": 14,
   "id": "963019d1",
   "metadata": {},
   "outputs": [],
   "source": [
    "# Deleting unnecessary columns\n",
    "\n",
    "fbs = fbs.drop(columns = ['Domain Code', 'Domain', 'Area Code (M49)', 'Item Code (CPC)', 'Year Code', 'Flag', 'Flag Description'])"
   ]
  },
  {
   "cell_type": "code",
   "execution_count": 15,
   "id": "c5011b66",
   "metadata": {},
   "outputs": [
    {
     "data": {
      "text/plain": [
       "(3000600, 7)"
      ]
     },
     "execution_count": 15,
     "metadata": {},
     "output_type": "execute_result"
    }
   ],
   "source": [
    "fbs.shape"
   ]
  },
  {
   "cell_type": "code",
   "execution_count": 16,
   "id": "784e5b9c",
   "metadata": {},
   "outputs": [
    {
     "data": {
      "text/plain": [
       "Area             object\n",
       "Element Code      int64\n",
       "Element          object\n",
       "Item             object\n",
       "Year              int64\n",
       "Unit             object\n",
       "Value           float64\n",
       "dtype: object"
      ]
     },
     "execution_count": 16,
     "metadata": {},
     "output_type": "execute_result"
    }
   ],
   "source": [
    "fbs.dtypes"
   ]
  },
  {
   "cell_type": "code",
   "execution_count": 17,
   "id": "2ea055d4",
   "metadata": {},
   "outputs": [],
   "source": [
    "# Changing the data type of the column \"Element Code\"\n",
    "\n",
    "fbs['Element Code'] = fbs['Element Code'].astype('str')"
   ]
  },
  {
   "cell_type": "code",
   "execution_count": 18,
   "id": "15c58035",
   "metadata": {},
   "outputs": [
    {
     "data": {
      "text/plain": [
       "Area             object\n",
       "Element Code     object\n",
       "Element          object\n",
       "Item             object\n",
       "Year              int64\n",
       "Unit             object\n",
       "Value           float64\n",
       "dtype: object"
      ]
     },
     "execution_count": 18,
     "metadata": {},
     "output_type": "execute_result"
    }
   ],
   "source": [
    "fbs.dtypes"
   ]
  },
  {
   "cell_type": "code",
   "execution_count": 19,
   "id": "6b439745",
   "metadata": {},
   "outputs": [
    {
     "data": {
      "text/html": [
       "<div>\n",
       "<style scoped>\n",
       "    .dataframe tbody tr th:only-of-type {\n",
       "        vertical-align: middle;\n",
       "    }\n",
       "\n",
       "    .dataframe tbody tr th {\n",
       "        vertical-align: top;\n",
       "    }\n",
       "\n",
       "    .dataframe thead th {\n",
       "        text-align: right;\n",
       "    }\n",
       "</style>\n",
       "<table border=\"1\" class=\"dataframe\">\n",
       "  <thead>\n",
       "    <tr style=\"text-align: right;\">\n",
       "      <th></th>\n",
       "      <th>Year</th>\n",
       "      <th>Value</th>\n",
       "    </tr>\n",
       "  </thead>\n",
       "  <tbody>\n",
       "    <tr>\n",
       "      <th>count</th>\n",
       "      <td>3.000600e+06</td>\n",
       "      <td>1.814600e+06</td>\n",
       "    </tr>\n",
       "    <tr>\n",
       "      <th>mean</th>\n",
       "      <td>2.014500e+03</td>\n",
       "      <td>2.355983e+02</td>\n",
       "    </tr>\n",
       "    <tr>\n",
       "      <th>std</th>\n",
       "      <td>2.872282e+00</td>\n",
       "      <td>6.620040e+03</td>\n",
       "    </tr>\n",
       "    <tr>\n",
       "      <th>min</th>\n",
       "      <td>2.010000e+03</td>\n",
       "      <td>-1.947100e+04</td>\n",
       "    </tr>\n",
       "    <tr>\n",
       "      <th>25%</th>\n",
       "      <td>2.012000e+03</td>\n",
       "      <td>0.000000e+00</td>\n",
       "    </tr>\n",
       "    <tr>\n",
       "      <th>50%</th>\n",
       "      <td>2.014500e+03</td>\n",
       "      <td>1.000000e-01</td>\n",
       "    </tr>\n",
       "    <tr>\n",
       "      <th>75%</th>\n",
       "      <td>2.017000e+03</td>\n",
       "      <td>8.000000e+00</td>\n",
       "    </tr>\n",
       "    <tr>\n",
       "      <th>max</th>\n",
       "      <td>2.019000e+03</td>\n",
       "      <td>1.465634e+06</td>\n",
       "    </tr>\n",
       "  </tbody>\n",
       "</table>\n",
       "</div>"
      ],
      "text/plain": [
       "               Year         Value\n",
       "count  3.000600e+06  1.814600e+06\n",
       "mean   2.014500e+03  2.355983e+02\n",
       "std    2.872282e+00  6.620040e+03\n",
       "min    2.010000e+03 -1.947100e+04\n",
       "25%    2.012000e+03  0.000000e+00\n",
       "50%    2.014500e+03  1.000000e-01\n",
       "75%    2.017000e+03  8.000000e+00\n",
       "max    2.019000e+03  1.465634e+06"
      ]
     },
     "execution_count": 19,
     "metadata": {},
     "output_type": "execute_result"
    }
   ],
   "source": [
    "fbs.describe()"
   ]
  },
  {
   "cell_type": "code",
   "execution_count": 20,
   "id": "230e8714",
   "metadata": {},
   "outputs": [
    {
     "data": {
      "text/html": [
       "<div>\n",
       "<style scoped>\n",
       "    .dataframe tbody tr th:only-of-type {\n",
       "        vertical-align: middle;\n",
       "    }\n",
       "\n",
       "    .dataframe tbody tr th {\n",
       "        vertical-align: top;\n",
       "    }\n",
       "\n",
       "    .dataframe thead th {\n",
       "        text-align: right;\n",
       "    }\n",
       "</style>\n",
       "<table border=\"1\" class=\"dataframe\">\n",
       "  <thead>\n",
       "    <tr style=\"text-align: right;\">\n",
       "      <th></th>\n",
       "      <th>Area</th>\n",
       "      <th>Element Code</th>\n",
       "      <th>Element</th>\n",
       "      <th>Item</th>\n",
       "      <th>Year</th>\n",
       "      <th>Unit</th>\n",
       "      <th>Value</th>\n",
       "    </tr>\n",
       "  </thead>\n",
       "  <tbody>\n",
       "    <tr>\n",
       "      <th>0</th>\n",
       "      <td>Afghanistan</td>\n",
       "      <td>511</td>\n",
       "      <td>Total Population - Both sexes</td>\n",
       "      <td>Population</td>\n",
       "      <td>2010</td>\n",
       "      <td>1000 persons</td>\n",
       "      <td>29186.0</td>\n",
       "    </tr>\n",
       "    <tr>\n",
       "      <th>1</th>\n",
       "      <td>Afghanistan</td>\n",
       "      <td>511</td>\n",
       "      <td>Total Population - Both sexes</td>\n",
       "      <td>Population</td>\n",
       "      <td>2011</td>\n",
       "      <td>1000 persons</td>\n",
       "      <td>30117.0</td>\n",
       "    </tr>\n",
       "    <tr>\n",
       "      <th>2</th>\n",
       "      <td>Afghanistan</td>\n",
       "      <td>511</td>\n",
       "      <td>Total Population - Both sexes</td>\n",
       "      <td>Population</td>\n",
       "      <td>2012</td>\n",
       "      <td>1000 persons</td>\n",
       "      <td>31161.0</td>\n",
       "    </tr>\n",
       "    <tr>\n",
       "      <th>3</th>\n",
       "      <td>Afghanistan</td>\n",
       "      <td>511</td>\n",
       "      <td>Total Population - Both sexes</td>\n",
       "      <td>Population</td>\n",
       "      <td>2013</td>\n",
       "      <td>1000 persons</td>\n",
       "      <td>32270.0</td>\n",
       "    </tr>\n",
       "    <tr>\n",
       "      <th>4</th>\n",
       "      <td>Afghanistan</td>\n",
       "      <td>511</td>\n",
       "      <td>Total Population - Both sexes</td>\n",
       "      <td>Population</td>\n",
       "      <td>2014</td>\n",
       "      <td>1000 persons</td>\n",
       "      <td>33371.0</td>\n",
       "    </tr>\n",
       "  </tbody>\n",
       "</table>\n",
       "</div>"
      ],
      "text/plain": [
       "          Area Element Code                        Element        Item  Year  \\\n",
       "0  Afghanistan          511  Total Population - Both sexes  Population  2010   \n",
       "1  Afghanistan          511  Total Population - Both sexes  Population  2011   \n",
       "2  Afghanistan          511  Total Population - Both sexes  Population  2012   \n",
       "3  Afghanistan          511  Total Population - Both sexes  Population  2013   \n",
       "4  Afghanistan          511  Total Population - Both sexes  Population  2014   \n",
       "\n",
       "           Unit    Value  \n",
       "0  1000 persons  29186.0  \n",
       "1  1000 persons  30117.0  \n",
       "2  1000 persons  31161.0  \n",
       "3  1000 persons  32270.0  \n",
       "4  1000 persons  33371.0  "
      ]
     },
     "execution_count": 20,
     "metadata": {},
     "output_type": "execute_result"
    }
   ],
   "source": [
    "fbs.head()"
   ]
  },
  {
   "cell_type": "code",
   "execution_count": 21,
   "id": "bef2dcfb",
   "metadata": {},
   "outputs": [
    {
     "data": {
      "text/plain": [
       "(3000600, 7)"
      ]
     },
     "execution_count": 21,
     "metadata": {},
     "output_type": "execute_result"
    }
   ],
   "source": [
    "fbs.shape"
   ]
  },
  {
   "cell_type": "markdown",
   "id": "ba7d9a90",
   "metadata": {},
   "source": [
    "## 3.0 Exporting Data"
   ]
  },
  {
   "cell_type": "code",
   "execution_count": 22,
   "id": "7cd7f8c3",
   "metadata": {},
   "outputs": [],
   "source": [
    "# Exporting the fbs to fbs.pkl\n",
    "\n",
    "fbs.to_pickle(os.path.join(path, '2.2 Prepared data', 'fbs.pkl'))"
   ]
  }
 ],
 "metadata": {
  "kernelspec": {
   "display_name": "Python 3 (ipykernel)",
   "language": "python",
   "name": "python3"
  },
  "language_info": {
   "codemirror_mode": {
    "name": "ipython",
    "version": 3
   },
   "file_extension": ".py",
   "mimetype": "text/x-python",
   "name": "python",
   "nbconvert_exporter": "python",
   "pygments_lexer": "ipython3",
   "version": "3.9.12"
  }
 },
 "nbformat": 4,
 "nbformat_minor": 5
}
